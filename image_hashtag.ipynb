{
 "cells": [
  {
   "cell_type": "code",
   "execution_count": null,
   "metadata": {
    "id": "SSVUL9Lkg10S"
   },
   "outputs": [],
   "source": []
  },
  {
   "cell_type": "code",
   "execution_count": 5,
   "metadata": {
    "colab": {
     "base_uri": "https://localhost:8080/"
    },
    "id": "2DNAzmbhg12u",
    "outputId": "72c1baca-04aa-4fcc-f38c-3be36f8bbb9a"
   },
   "outputs": [
    {
     "name": "stdout",
     "output_type": "stream",
     "text": [
      "Requirement already satisfied: gradio in c:\\users\\jacobyoussefelali\\appdata\\local\\programs\\python\\python310\\lib\\site-packages (3.0.2)\n",
      "Requirement already satisfied: fastapi in c:\\users\\jacobyoussefelali\\appdata\\local\\programs\\python\\python310\\lib\\site-packages (from gradio) (0.78.0)\n",
      "Requirement already satisfied: ffmpy in c:\\users\\jacobyoussefelali\\appdata\\local\\programs\\python\\python310\\lib\\site-packages (from gradio) (0.3.0)\n",
      "Requirement already satisfied: aiohttp in c:\\users\\jacobyoussefelali\\appdata\\local\\programs\\python\\python310\\lib\\site-packages (from gradio) (3.8.1)\n",
      "Requirement already satisfied: numpy in c:\\users\\jacobyoussefelali\\appdata\\local\\programs\\python\\python310\\lib\\site-packages (from gradio) (1.22.3)\n",
      "Requirement already satisfied: python-multipart in c:\\users\\jacobyoussefelali\\appdata\\local\\programs\\python\\python310\\lib\\site-packages (from gradio) (0.0.5)\n",
      "Requirement already satisfied: matplotlib in c:\\users\\jacobyoussefelali\\appdata\\local\\programs\\python\\python310\\lib\\site-packages (from gradio) (3.5.2)\n",
      "Requirement already satisfied: markdown-it-py[linkify,plugins] in c:\\users\\jacobyoussefelali\\appdata\\local\\programs\\python\\python310\\lib\\site-packages (from gradio) (2.1.0)\n",
      "Requirement already satisfied: Jinja2 in c:\\users\\jacobyoussefelali\\appdata\\local\\programs\\python\\python310\\lib\\site-packages (from gradio) (3.1.2)\n",
      "Requirement already satisfied: pydub in c:\\users\\jacobyoussefelali\\appdata\\local\\programs\\python\\python310\\lib\\site-packages (from gradio) (0.25.1)\n",
      "Requirement already satisfied: orjson in c:\\users\\jacobyoussefelali\\appdata\\local\\programs\\python\\python310\\lib\\site-packages (from gradio) (3.6.8)\n",
      "Requirement already satisfied: analytics-python in c:\\users\\jacobyoussefelali\\appdata\\local\\programs\\python\\python310\\lib\\site-packages (from gradio) (1.4.0)\n",
      "Requirement already satisfied: paramiko in c:\\users\\jacobyoussefelali\\appdata\\local\\programs\\python\\python310\\lib\\site-packages (from gradio) (2.11.0)\n",
      "Requirement already satisfied: uvicorn in c:\\users\\jacobyoussefelali\\appdata\\local\\programs\\python\\python310\\lib\\site-packages (from gradio) (0.17.6)\n",
      "Requirement already satisfied: pycryptodome in c:\\users\\jacobyoussefelali\\appdata\\local\\programs\\python\\python310\\lib\\site-packages (from gradio) (3.14.1)\n",
      "Requirement already satisfied: pandas in c:\\users\\jacobyoussefelali\\appdata\\local\\programs\\python\\python310\\lib\\site-packages (from gradio) (1.4.2)\n",
      "Requirement already satisfied: requests in c:\\users\\jacobyoussefelali\\appdata\\local\\programs\\python\\python310\\lib\\site-packages (from gradio) (2.27.1)\n",
      "Requirement already satisfied: pillow in c:\\users\\jacobyoussefelali\\appdata\\local\\programs\\python\\python310\\lib\\site-packages (from gradio) (9.1.1)\n",
      "Requirement already satisfied: async-timeout<5.0,>=4.0.0a3 in c:\\users\\jacobyoussefelali\\appdata\\local\\programs\\python\\python310\\lib\\site-packages (from aiohttp->gradio) (4.0.2)\n",
      "Requirement already satisfied: frozenlist>=1.1.1 in c:\\users\\jacobyoussefelali\\appdata\\local\\programs\\python\\python310\\lib\\site-packages (from aiohttp->gradio) (1.3.0)\n",
      "Requirement already satisfied: attrs>=17.3.0 in c:\\users\\jacobyoussefelali\\appdata\\local\\programs\\python\\python310\\lib\\site-packages (from aiohttp->gradio) (21.4.0)\n",
      "Requirement already satisfied: charset-normalizer<3.0,>=2.0 in c:\\users\\jacobyoussefelali\\appdata\\local\\programs\\python\\python310\\lib\\site-packages (from aiohttp->gradio) (2.0.12)\n",
      "Requirement already satisfied: multidict<7.0,>=4.5 in c:\\users\\jacobyoussefelali\\appdata\\local\\programs\\python\\python310\\lib\\site-packages (from aiohttp->gradio) (6.0.2)\n",
      "Requirement already satisfied: aiosignal>=1.1.2 in c:\\users\\jacobyoussefelali\\appdata\\local\\programs\\python\\python310\\lib\\site-packages (from aiohttp->gradio) (1.2.0)\n",
      "Requirement already satisfied: yarl<2.0,>=1.0 in c:\\users\\jacobyoussefelali\\appdata\\local\\programs\\python\\python310\\lib\\site-packages (from aiohttp->gradio) (1.7.2)\n",
      "Requirement already satisfied: backoff==1.10.0 in c:\\users\\jacobyoussefelali\\appdata\\local\\programs\\python\\python310\\lib\\site-packages (from analytics-python->gradio) (1.10.0)\n",
      "Requirement already satisfied: six>=1.5 in c:\\users\\jacobyoussefelali\\appdata\\local\\programs\\python\\python310\\lib\\site-packages (from analytics-python->gradio) (1.16.0)\n",
      "Requirement already satisfied: python-dateutil>2.1 in c:\\users\\jacobyoussefelali\\appdata\\local\\programs\\python\\python310\\lib\\site-packages (from analytics-python->gradio) (2.8.2)\n",
      "Requirement already satisfied: monotonic>=1.5 in c:\\users\\jacobyoussefelali\\appdata\\local\\programs\\python\\python310\\lib\\site-packages (from analytics-python->gradio) (1.6)\n",
      "Requirement already satisfied: idna<4,>=2.5 in c:\\users\\jacobyoussefelali\\appdata\\local\\programs\\python\\python310\\lib\\site-packages (from requests->gradio) (3.3)\n",
      "Requirement already satisfied: certifi>=2017.4.17 in c:\\users\\jacobyoussefelali\\appdata\\local\\programs\\python\\python310\\lib\\site-packages (from requests->gradio) (2022.5.18)\n",
      "Requirement already satisfied: urllib3<1.27,>=1.21.1 in c:\\users\\jacobyoussefelali\\appdata\\local\\programs\\python\\python310\\lib\\site-packages (from requests->gradio) (1.26.9)\n",
      "Requirement already satisfied: starlette==0.19.1 in c:\\users\\jacobyoussefelali\\appdata\\local\\programs\\python\\python310\\lib\\site-packages (from fastapi->gradio) (0.19.1)\n",
      "Requirement already satisfied: pydantic!=1.7,!=1.7.1,!=1.7.2,!=1.7.3,!=1.8,!=1.8.1,<2.0.0,>=1.6.2 in c:\\users\\jacobyoussefelali\\appdata\\local\\programs\\python\\python310\\lib\\site-packages (from fastapi->gradio) (1.8.2)\n",
      "Requirement already satisfied: anyio<5,>=3.4.0 in c:\\users\\jacobyoussefelali\\appdata\\local\\programs\\python\\python310\\lib\\site-packages (from starlette==0.19.1->fastapi->gradio) (3.6.1)\n",
      "Requirement already satisfied: MarkupSafe>=2.0 in c:\\users\\jacobyoussefelali\\appdata\\local\\programs\\python\\python310\\lib\\site-packages (from Jinja2->gradio) (2.1.1)\n",
      "Requirement already satisfied: mdurl~=0.1 in c:\\users\\jacobyoussefelali\\appdata\\local\\programs\\python\\python310\\lib\\site-packages (from markdown-it-py[linkify,plugins]->gradio) (0.1.1)\n",
      "Requirement already satisfied: mdit-py-plugins in c:\\users\\jacobyoussefelali\\appdata\\local\\programs\\python\\python310\\lib\\site-packages (from markdown-it-py[linkify,plugins]->gradio) (0.3.0)\n",
      "Requirement already satisfied: linkify-it-py~=1.0 in c:\\users\\jacobyoussefelali\\appdata\\local\\programs\\python\\python310\\lib\\site-packages (from markdown-it-py[linkify,plugins]->gradio) (1.0.3)\n",
      "Requirement already satisfied: packaging>=20.0 in c:\\users\\jacobyoussefelali\\appdata\\local\\programs\\python\\python310\\lib\\site-packages (from matplotlib->gradio) (21.3)\n",
      "Requirement already satisfied: cycler>=0.10 in c:\\users\\jacobyoussefelali\\appdata\\local\\programs\\python\\python310\\lib\\site-packages (from matplotlib->gradio) (0.11.0)\n",
      "Requirement already satisfied: pyparsing>=2.2.1 in c:\\users\\jacobyoussefelali\\appdata\\local\\programs\\python\\python310\\lib\\site-packages (from matplotlib->gradio) (3.0.9)\n",
      "Requirement already satisfied: kiwisolver>=1.0.1 in c:\\users\\jacobyoussefelali\\appdata\\local\\programs\\python\\python310\\lib\\site-packages (from matplotlib->gradio) (1.4.2)\n",
      "Requirement already satisfied: fonttools>=4.22.0 in c:\\users\\jacobyoussefelali\\appdata\\local\\programs\\python\\python310\\lib\\site-packages (from matplotlib->gradio) (4.33.3)\n",
      "Requirement already satisfied: pytz>=2020.1 in c:\\users\\jacobyoussefelali\\appdata\\local\\programs\\python\\python310\\lib\\site-packages (from pandas->gradio) (2022.1)\n",
      "Requirement already satisfied: bcrypt>=3.1.3 in c:\\users\\jacobyoussefelali\\appdata\\local\\programs\\python\\python310\\lib\\site-packages (from paramiko->gradio) (3.2.2)\n",
      "Requirement already satisfied: cryptography>=2.5 in c:\\users\\jacobyoussefelali\\appdata\\local\\programs\\python\\python310\\lib\\site-packages (from paramiko->gradio) (37.0.2)\n",
      "Requirement already satisfied: pynacl>=1.0.1 in c:\\users\\jacobyoussefelali\\appdata\\local\\programs\\python\\python310\\lib\\site-packages (from paramiko->gradio) (1.5.0)\n",
      "Requirement already satisfied: asgiref>=3.4.0 in c:\\users\\jacobyoussefelali\\appdata\\local\\programs\\python\\python310\\lib\\site-packages (from uvicorn->gradio) (3.5.2)\n",
      "Requirement already satisfied: h11>=0.8 in c:\\users\\jacobyoussefelali\\appdata\\local\\programs\\python\\python310\\lib\\site-packages (from uvicorn->gradio) (0.13.0)\n",
      "Requirement already satisfied: click>=7.0 in c:\\users\\jacobyoussefelali\\appdata\\local\\programs\\python\\python310\\lib\\site-packages (from uvicorn->gradio) (8.1.3)\n",
      "Requirement already satisfied: cffi>=1.1 in c:\\users\\jacobyoussefelali\\appdata\\local\\programs\\python\\python310\\lib\\site-packages (from bcrypt>=3.1.3->paramiko->gradio) (1.15.0)\n",
      "Requirement already satisfied: colorama in c:\\users\\jacobyoussefelali\\appdata\\local\\programs\\python\\python310\\lib\\site-packages (from click>=7.0->uvicorn->gradio) (0.4.4)\n",
      "Requirement already satisfied: uc-micro-py in c:\\users\\jacobyoussefelali\\appdata\\local\\programs\\python\\python310\\lib\\site-packages (from linkify-it-py~=1.0->markdown-it-py[linkify,plugins]->gradio) (1.0.1)\n",
      "Requirement already satisfied: typing-extensions>=3.7.4.3 in c:\\users\\jacobyoussefelali\\appdata\\local\\programs\\python\\python310\\lib\\site-packages (from pydantic!=1.7,!=1.7.1,!=1.7.2,!=1.7.3,!=1.8,!=1.8.1,<2.0.0,>=1.6.2->fastapi->gradio) (4.2.0)\n",
      "Requirement already satisfied: sniffio>=1.1 in c:\\users\\jacobyoussefelali\\appdata\\local\\programs\\python\\python310\\lib\\site-packages (from anyio<5,>=3.4.0->starlette==0.19.1->fastapi->gradio) (1.2.0)\n",
      "Requirement already satisfied: pycparser in c:\\users\\jacobyoussefelali\\appdata\\local\\programs\\python\\python310\\lib\\site-packages (from cffi>=1.1->bcrypt>=3.1.3->paramiko->gradio) (2.21)\n"
     ]
    },
    {
     "name": "stderr",
     "output_type": "stream",
     "text": [
      "WARNING: You are using pip version 22.0.4; however, version 22.1 is available.\n",
      "You should consider upgrading via the 'C:\\Users\\JacobYoussefElali\\AppData\\Local\\Programs\\Python\\Python310\\python.exe -m pip install --upgrade pip' command.\n"
     ]
    }
   ],
   "source": [
    "#!pip install gradio"
   ]
  },
  {
   "cell_type": "code",
   "execution_count": 11,
   "metadata": {
    "colab": {
     "base_uri": "https://localhost:8080/",
     "height": 779,
     "referenced_widgets": [
      "174f867ebc7f432fb3e8765a960497a2",
      "f999e45324f94b349c67000fecbaa3a4",
      "6c56f482cee342d8b43edbac7e5344b5",
      "c6712127e6f8409d8ff50a48c8277369",
      "362f5c02c87049f18c82453517e8db84",
      "e71a1fed625645509e6a3810c1fbdca9",
      "6377aa3c340446d9acb8f8df0c7c72cb",
      "cdd5b4dee2dd4050b8449a139195973c",
      "40139449c80c4f2cbad21f4a19dd2df1",
      "1d61ec544fb54c9e92008312817541d3",
      "e425cb3e936c44a2adf1f17dbb4553e4"
     ]
    },
    "id": "3RhpAhi1g15M",
    "outputId": "bdbb552d-69ed-4b96-a861-7dfa1af3d6f3"
   },
   "outputs": [
    {
     "name": "stderr",
     "output_type": "stream",
     "text": [
      "Downloading: \"https://github.com/facebookresearch/WSL-Images/archive/main.zip\" to /root/.cache/torch/hub/main.zip\n",
      "Downloading: \"https://download.pytorch.org/models/ig_resnext101_32x8-c38310e5.pth\" to /root/.cache/torch/hub/checkpoints/ig_resnext101_32x8-c38310e5.pth\n"
     ]
    },
    {
     "data": {
      "application/vnd.jupyter.widget-view+json": {
       "model_id": "174f867ebc7f432fb3e8765a960497a2",
       "version_major": 2,
       "version_minor": 0
      },
      "text/plain": [
       "  0%|          | 0.00/340M [00:00<?, ?B/s]"
      ]
     },
     "metadata": {},
     "output_type": "display_data"
    },
    {
     "name": "stderr",
     "output_type": "stream",
     "text": [
      "/usr/local/lib/python3.7/dist-packages/gradio/deprecation.py:40: UserWarning: `optional` parameter is deprecated, and it has no effect\n",
      "  warnings.warn(value)\n",
      "/usr/local/lib/python3.7/dist-packages/gradio/deprecation.py:40: UserWarning: The 'type' parameter has been deprecated. Use the Number component instead.\n",
      "  warnings.warn(value)\n"
     ]
    },
    {
     "name": "stdout",
     "output_type": "stream",
     "text": [
      "Colab notebook detected. To show errors in colab notebook, set `debug=True` in `launch()`\n",
      "Running on public URL: https://47175.gradio.app\n",
      "\n",
      "This share link expires in 72 hours. For free permanent hosting, check out Spaces (https://huggingface.co/spaces)\n"
     ]
    },
    {
     "data": {
      "text/html": [
       "\n",
       "        <iframe\n",
       "            width=\"900\"\n",
       "            height=\"500\"\n",
       "            src=\"https://47175.gradio.app\"\n",
       "            frameborder=\"0\"\n",
       "            allowfullscreen\n",
       "        ></iframe>\n",
       "        "
      ],
      "text/plain": [
       "<IPython.lib.display.IFrame at 0x7f2d22a7e390>"
      ]
     },
     "metadata": {},
     "output_type": "display_data"
    },
    {
     "data": {
      "text/plain": [
       "(<gradio.routes.App at 0x7f2d22a34690>,\n",
       " 'http://127.0.0.1:7860/',\n",
       " 'https://47175.gradio.app')"
      ]
     },
     "execution_count": 11,
     "metadata": {},
     "output_type": "execute_result"
    }
   ],
   "source": [
    "import os\n",
    "import torch\n",
    "from PIL import Image\n",
    "from torchvision import transforms\n",
    "import gradio as gr\n",
    "model = torch.hub.load('facebookresearch/WSL-Images', 'resnext101_32x8d_wsl')\n",
    "# or\n",
    "# model = torch.hub.load('facebookresearch/WSL-Images', 'resnext101_32x16d_wsl')\n",
    "# or\n",
    "# model = torch.hub.load('facebookresearch/WSL-Images', 'resnext101_32x32d_wsl')\n",
    "# or\n",
    "#model = torch.hub.load('facebookresearch/WSL-Images', 'resnext101_32x48d_wsl')\n",
    "model.eval()\n",
    "# Download an example image from the pytorch website\n",
    "import urllib\n",
    "url, filename = (\"https://github.com/pytorch/hub/raw/master/images/dog.jpg\", \"dog.jpg\")\n",
    "try: urllib.URLopener().retrieve(url, filename)\n",
    "except: urllib.request.urlretrieve(url, filename)\n",
    "\n",
    "def inference(input_image):\n",
    "    preprocess = transforms.Compose([\n",
    "        transforms.Resize(256),\n",
    "        transforms.CenterCrop(224),\n",
    "        transforms.ToTensor(),\n",
    "        transforms.Normalize(mean=[0.485, 0.456, 0.406], std=[0.229, 0.224, 0.225]),\n",
    "    ])\n",
    "    input_tensor = preprocess(input_image)\n",
    "    input_batch = input_tensor.unsqueeze(0) # create a mini-batch as expected by the model\n",
    "\n",
    "    # move the input and model to GPU for speed if available\n",
    "    if torch.cuda.is_available():\n",
    "        input_batch = input_batch.to('cuda')\n",
    "        model.to('cuda')\n",
    "\n",
    "    with torch.no_grad():\n",
    "        output = model(input_batch)\n",
    "    # The output has unnormalized scores. To get probabilities, you can run a softmax on it.\n",
    "    probabilities = torch.nn.functional.softmax(output[0], dim=0)\n",
    "    # Download ImageNet labels\n",
    "    os.system(\"wget https://raw.githubusercontent.com/pytorch/hub/master/imagenet_classes.txt\")\n",
    "    # Read the categories\n",
    "    with open(\"imagenet_classes.txt\", \"r\") as f:\n",
    "        categories = [s.strip() for s in f.readlines()]\n",
    "    # Show top categories per image\n",
    "    top5_prob, top5_catid = torch.topk(probabilities, 5)\n",
    "    result = {}\n",
    "    for i in range(top5_prob.size(0)):\n",
    "        result[categories[top5_catid[i]]] = top5_prob[i].item()\n",
    "    return result\n",
    "\n",
    "inputs = gr.inputs.Image(type='pil')\n",
    "outputs = gr.outputs.Label(type=\"confidences\",num_top_classes=5)\n",
    "\n",
    "title = \"RESNEXT WSL\"\n",
    "description = \"Gradio demo for RESNEXT WSL, ResNext models trained with billion scale weakly-supervised data. To use it, simply upload your image, or click one of the examples to load them. Read more at the links below.\"\n",
    "article = \"<p style='text-align: center'><a href='https://arxiv.org/abs/1805.00932'>Exploring the Limits of Weakly Supervised Pretraining</a> | <a href='https://github.com/facebookresearch/WSL-Images/blob/master/hubconf.py'>Github Repo</a></p>\"\n",
    "\n",
    "examples = [\n",
    "            ['dog.jpg']\n",
    "]\n",
    "gr.Interface(inference, inputs, outputs, title=title, description=description, article=article, examples=examples, analytics_enabled=False).launch()\n"
   ]
  },
  {
   "cell_type": "code",
   "execution_count": null,
   "metadata": {
    "id": "ltEi2BSRg17n"
   },
   "outputs": [],
   "source": []
  },
  {
   "cell_type": "code",
   "execution_count": null,
   "metadata": {
    "id": "et0UgWR7g1-B"
   },
   "outputs": [],
   "source": []
  },
  {
   "cell_type": "code",
   "execution_count": null,
   "metadata": {
    "id": "JsHaQ7S8g2AV"
   },
   "outputs": [],
   "source": []
  },
  {
   "cell_type": "code",
   "execution_count": null,
   "metadata": {
    "id": "bFPl3K-lg2Cn"
   },
   "outputs": [],
   "source": []
  },
  {
   "cell_type": "code",
   "execution_count": null,
   "metadata": {
    "id": "cnxj153Ag2E8"
   },
   "outputs": [],
   "source": []
  },
  {
   "cell_type": "code",
   "execution_count": null,
   "metadata": {
    "id": "db3za8HSg2Hc"
   },
   "outputs": [],
   "source": []
  },
  {
   "cell_type": "code",
   "execution_count": null,
   "metadata": {
    "id": "vbm8EkbNg2J_"
   },
   "outputs": [],
   "source": []
  },
  {
   "cell_type": "code",
   "execution_count": null,
   "metadata": {
    "id": "klyHEuLHg2M4"
   },
   "outputs": [],
   "source": []
  },
  {
   "cell_type": "code",
   "execution_count": null,
   "metadata": {
    "id": "vmaUSJBkg2Px"
   },
   "outputs": [],
   "source": []
  }
 ],
 "metadata": {
  "colab": {
   "collapsed_sections": [],
   "name": "Coding_perceptron_algorithm.ipynb",
   "provenance": []
  },
  "kernelspec": {
   "display_name": "Python 3 (ipykernel)",
   "language": "python",
   "name": "python3"
  },
  "language_info": {
   "codemirror_mode": {
    "name": "ipython",
    "version": 3
   },
   "file_extension": ".py",
   "mimetype": "text/x-python",
   "name": "python",
   "nbconvert_exporter": "python",
   "pygments_lexer": "ipython3",
   "version": "3.10.4"
  },
  "widgets": {
   "application/vnd.jupyter.widget-state+json": {
    "174f867ebc7f432fb3e8765a960497a2": {
     "model_module": "@jupyter-widgets/controls",
     "model_module_version": "1.5.0",
     "model_name": "HBoxModel",
     "state": {
      "_dom_classes": [],
      "_model_module": "@jupyter-widgets/controls",
      "_model_module_version": "1.5.0",
      "_model_name": "HBoxModel",
      "_view_count": null,
      "_view_module": "@jupyter-widgets/controls",
      "_view_module_version": "1.5.0",
      "_view_name": "HBoxView",
      "box_style": "",
      "children": [
       "IPY_MODEL_f999e45324f94b349c67000fecbaa3a4",
       "IPY_MODEL_6c56f482cee342d8b43edbac7e5344b5",
       "IPY_MODEL_c6712127e6f8409d8ff50a48c8277369"
      ],
      "layout": "IPY_MODEL_362f5c02c87049f18c82453517e8db84"
     }
    },
    "1d61ec544fb54c9e92008312817541d3": {
     "model_module": "@jupyter-widgets/base",
     "model_module_version": "1.2.0",
     "model_name": "LayoutModel",
     "state": {
      "_model_module": "@jupyter-widgets/base",
      "_model_module_version": "1.2.0",
      "_model_name": "LayoutModel",
      "_view_count": null,
      "_view_module": "@jupyter-widgets/base",
      "_view_module_version": "1.2.0",
      "_view_name": "LayoutView",
      "align_content": null,
      "align_items": null,
      "align_self": null,
      "border": null,
      "bottom": null,
      "display": null,
      "flex": null,
      "flex_flow": null,
      "grid_area": null,
      "grid_auto_columns": null,
      "grid_auto_flow": null,
      "grid_auto_rows": null,
      "grid_column": null,
      "grid_gap": null,
      "grid_row": null,
      "grid_template_areas": null,
      "grid_template_columns": null,
      "grid_template_rows": null,
      "height": null,
      "justify_content": null,
      "justify_items": null,
      "left": null,
      "margin": null,
      "max_height": null,
      "max_width": null,
      "min_height": null,
      "min_width": null,
      "object_fit": null,
      "object_position": null,
      "order": null,
      "overflow": null,
      "overflow_x": null,
      "overflow_y": null,
      "padding": null,
      "right": null,
      "top": null,
      "visibility": null,
      "width": null
     }
    },
    "362f5c02c87049f18c82453517e8db84": {
     "model_module": "@jupyter-widgets/base",
     "model_module_version": "1.2.0",
     "model_name": "LayoutModel",
     "state": {
      "_model_module": "@jupyter-widgets/base",
      "_model_module_version": "1.2.0",
      "_model_name": "LayoutModel",
      "_view_count": null,
      "_view_module": "@jupyter-widgets/base",
      "_view_module_version": "1.2.0",
      "_view_name": "LayoutView",
      "align_content": null,
      "align_items": null,
      "align_self": null,
      "border": null,
      "bottom": null,
      "display": null,
      "flex": null,
      "flex_flow": null,
      "grid_area": null,
      "grid_auto_columns": null,
      "grid_auto_flow": null,
      "grid_auto_rows": null,
      "grid_column": null,
      "grid_gap": null,
      "grid_row": null,
      "grid_template_areas": null,
      "grid_template_columns": null,
      "grid_template_rows": null,
      "height": null,
      "justify_content": null,
      "justify_items": null,
      "left": null,
      "margin": null,
      "max_height": null,
      "max_width": null,
      "min_height": null,
      "min_width": null,
      "object_fit": null,
      "object_position": null,
      "order": null,
      "overflow": null,
      "overflow_x": null,
      "overflow_y": null,
      "padding": null,
      "right": null,
      "top": null,
      "visibility": null,
      "width": null
     }
    },
    "40139449c80c4f2cbad21f4a19dd2df1": {
     "model_module": "@jupyter-widgets/controls",
     "model_module_version": "1.5.0",
     "model_name": "ProgressStyleModel",
     "state": {
      "_model_module": "@jupyter-widgets/controls",
      "_model_module_version": "1.5.0",
      "_model_name": "ProgressStyleModel",
      "_view_count": null,
      "_view_module": "@jupyter-widgets/base",
      "_view_module_version": "1.2.0",
      "_view_name": "StyleView",
      "bar_color": null,
      "description_width": ""
     }
    },
    "6377aa3c340446d9acb8f8df0c7c72cb": {
     "model_module": "@jupyter-widgets/controls",
     "model_module_version": "1.5.0",
     "model_name": "DescriptionStyleModel",
     "state": {
      "_model_module": "@jupyter-widgets/controls",
      "_model_module_version": "1.5.0",
      "_model_name": "DescriptionStyleModel",
      "_view_count": null,
      "_view_module": "@jupyter-widgets/base",
      "_view_module_version": "1.2.0",
      "_view_name": "StyleView",
      "description_width": ""
     }
    },
    "6c56f482cee342d8b43edbac7e5344b5": {
     "model_module": "@jupyter-widgets/controls",
     "model_module_version": "1.5.0",
     "model_name": "FloatProgressModel",
     "state": {
      "_dom_classes": [],
      "_model_module": "@jupyter-widgets/controls",
      "_model_module_version": "1.5.0",
      "_model_name": "FloatProgressModel",
      "_view_count": null,
      "_view_module": "@jupyter-widgets/controls",
      "_view_module_version": "1.5.0",
      "_view_name": "ProgressView",
      "bar_style": "success",
      "description": "",
      "description_tooltip": null,
      "layout": "IPY_MODEL_cdd5b4dee2dd4050b8449a139195973c",
      "max": 356056638,
      "min": 0,
      "orientation": "horizontal",
      "style": "IPY_MODEL_40139449c80c4f2cbad21f4a19dd2df1",
      "value": 356056638
     }
    },
    "c6712127e6f8409d8ff50a48c8277369": {
     "model_module": "@jupyter-widgets/controls",
     "model_module_version": "1.5.0",
     "model_name": "HTMLModel",
     "state": {
      "_dom_classes": [],
      "_model_module": "@jupyter-widgets/controls",
      "_model_module_version": "1.5.0",
      "_model_name": "HTMLModel",
      "_view_count": null,
      "_view_module": "@jupyter-widgets/controls",
      "_view_module_version": "1.5.0",
      "_view_name": "HTMLView",
      "description": "",
      "description_tooltip": null,
      "layout": "IPY_MODEL_1d61ec544fb54c9e92008312817541d3",
      "placeholder": "​",
      "style": "IPY_MODEL_e425cb3e936c44a2adf1f17dbb4553e4",
      "value": " 340M/340M [00:02&lt;00:00, 155MB/s]"
     }
    },
    "cdd5b4dee2dd4050b8449a139195973c": {
     "model_module": "@jupyter-widgets/base",
     "model_module_version": "1.2.0",
     "model_name": "LayoutModel",
     "state": {
      "_model_module": "@jupyter-widgets/base",
      "_model_module_version": "1.2.0",
      "_model_name": "LayoutModel",
      "_view_count": null,
      "_view_module": "@jupyter-widgets/base",
      "_view_module_version": "1.2.0",
      "_view_name": "LayoutView",
      "align_content": null,
      "align_items": null,
      "align_self": null,
      "border": null,
      "bottom": null,
      "display": null,
      "flex": null,
      "flex_flow": null,
      "grid_area": null,
      "grid_auto_columns": null,
      "grid_auto_flow": null,
      "grid_auto_rows": null,
      "grid_column": null,
      "grid_gap": null,
      "grid_row": null,
      "grid_template_areas": null,
      "grid_template_columns": null,
      "grid_template_rows": null,
      "height": null,
      "justify_content": null,
      "justify_items": null,
      "left": null,
      "margin": null,
      "max_height": null,
      "max_width": null,
      "min_height": null,
      "min_width": null,
      "object_fit": null,
      "object_position": null,
      "order": null,
      "overflow": null,
      "overflow_x": null,
      "overflow_y": null,
      "padding": null,
      "right": null,
      "top": null,
      "visibility": null,
      "width": null
     }
    },
    "e425cb3e936c44a2adf1f17dbb4553e4": {
     "model_module": "@jupyter-widgets/controls",
     "model_module_version": "1.5.0",
     "model_name": "DescriptionStyleModel",
     "state": {
      "_model_module": "@jupyter-widgets/controls",
      "_model_module_version": "1.5.0",
      "_model_name": "DescriptionStyleModel",
      "_view_count": null,
      "_view_module": "@jupyter-widgets/base",
      "_view_module_version": "1.2.0",
      "_view_name": "StyleView",
      "description_width": ""
     }
    },
    "e71a1fed625645509e6a3810c1fbdca9": {
     "model_module": "@jupyter-widgets/base",
     "model_module_version": "1.2.0",
     "model_name": "LayoutModel",
     "state": {
      "_model_module": "@jupyter-widgets/base",
      "_model_module_version": "1.2.0",
      "_model_name": "LayoutModel",
      "_view_count": null,
      "_view_module": "@jupyter-widgets/base",
      "_view_module_version": "1.2.0",
      "_view_name": "LayoutView",
      "align_content": null,
      "align_items": null,
      "align_self": null,
      "border": null,
      "bottom": null,
      "display": null,
      "flex": null,
      "flex_flow": null,
      "grid_area": null,
      "grid_auto_columns": null,
      "grid_auto_flow": null,
      "grid_auto_rows": null,
      "grid_column": null,
      "grid_gap": null,
      "grid_row": null,
      "grid_template_areas": null,
      "grid_template_columns": null,
      "grid_template_rows": null,
      "height": null,
      "justify_content": null,
      "justify_items": null,
      "left": null,
      "margin": null,
      "max_height": null,
      "max_width": null,
      "min_height": null,
      "min_width": null,
      "object_fit": null,
      "object_position": null,
      "order": null,
      "overflow": null,
      "overflow_x": null,
      "overflow_y": null,
      "padding": null,
      "right": null,
      "top": null,
      "visibility": null,
      "width": null
     }
    },
    "f999e45324f94b349c67000fecbaa3a4": {
     "model_module": "@jupyter-widgets/controls",
     "model_module_version": "1.5.0",
     "model_name": "HTMLModel",
     "state": {
      "_dom_classes": [],
      "_model_module": "@jupyter-widgets/controls",
      "_model_module_version": "1.5.0",
      "_model_name": "HTMLModel",
      "_view_count": null,
      "_view_module": "@jupyter-widgets/controls",
      "_view_module_version": "1.5.0",
      "_view_name": "HTMLView",
      "description": "",
      "description_tooltip": null,
      "layout": "IPY_MODEL_e71a1fed625645509e6a3810c1fbdca9",
      "placeholder": "​",
      "style": "IPY_MODEL_6377aa3c340446d9acb8f8df0c7c72cb",
      "value": "100%"
     }
    }
   }
  }
 },
 "nbformat": 4,
 "nbformat_minor": 1
}
